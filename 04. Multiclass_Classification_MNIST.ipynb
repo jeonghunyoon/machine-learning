{
 "cells": [
  {
   "cell_type": "code",
   "execution_count": 1,
   "metadata": {},
   "outputs": [],
   "source": [
    "import warnings\n",
    "warnings.filterwarnings('ignore')"
   ]
  },
  {
   "cell_type": "markdown",
   "metadata": {},
   "source": [
    "# MNIST와 Scikit learn을 활용한 multiclass classification tutorial"
   ]
  },
  {
   "cell_type": "markdown",
   "metadata": {},
   "source": [
    "Multiclass classifier\n",
    " - 다중 분류기\n",
    " - 둘 이상의 class를 구별\n",
    " - 다항 분류기(multinomial classifier) 라고도 한다.\n",
    " - Randomforest classifier, Naive bayes classifier 같은 알고리즘은 여러 개의 클래스를 직접 처리할 수 있음\n",
    " - SVM 또는 선형 분류기 같은 알고리즘은 이진 분류만 가능하기 때문에, 이진 분류기를 여러 개 사용해 다중 클래스를 분류하는 기법도 많음\n",
    "  - One-versus-all, noe_versus-the-rest(OvA) 전략 : 클래스가 10개인 이미지 중에서 1개만 구분할 수 있는 숫자별 이진 분류기 10개를 훈련시킴. 이미지를 분류할 때 각 분류기의 결정 점수 중에서 가장 높은 것을 클래스로 선택\n",
    "  - One-versus-one(OvO) 전략 : 0/1, 0/2, 1/2 등 각 숫자의 조합마다 이진 분류기를 훈련. 클래스가 N개이면 분류기는 $\\frac{N \\times (N-1)}{2}$개가 필요함. 이미지 하나당 분류기를 모두 통과시킨 후 가장 많이 양성으로 분류된 클래스를 선택\n",
    "  - Training set 크기에 민감한 알고리즘이라면 OvO가 선호되지만, 대부분 이진 분류 알고리즘에서는 OvA가 선호된다."
   ]
  },
  {
   "cell_type": "code",
   "execution_count": 4,
   "metadata": {},
   "outputs": [],
   "source": [
    "from keras.datasets import mnist\n",
    "(train_x, train_y), (test_x, test_y) = mnist.load_data()"
   ]
  },
  {
   "cell_type": "code",
   "execution_count": 8,
   "metadata": {},
   "outputs": [],
   "source": [
    "import numpy as np\n",
    "from sklearn.linear_model import SGDClassifier"
   ]
  },
  {
   "cell_type": "code",
   "execution_count": null,
   "metadata": {},
   "outputs": [],
   "source": [
    "train_x_2d = np.reshape(train_x, (-1, 784))\n",
    "test_x_2d = np.reshape(test_x, (-1, 784))"
   ]
  },
  {
   "cell_type": "code",
   "execution_count": 11,
   "metadata": {},
   "outputs": [
    {
     "data": {
      "text/plain": [
       "SGDClassifier(alpha=0.0001, average=False, class_weight=None, epsilon=0.1,\n",
       "       eta0=0.0, fit_intercept=True, l1_ratio=0.15,\n",
       "       learning_rate='optimal', loss='hinge', max_iter=5, n_iter=None,\n",
       "       n_jobs=1, penalty='l2', power_t=0.5, random_state=42, shuffle=True,\n",
       "       tol=None, verbose=0, warm_start=False)"
      ]
     },
     "execution_count": 11,
     "metadata": {},
     "output_type": "execute_result"
    }
   ],
   "source": [
    "# Sklearn에서는 multiclass classification에 대해서, binary classier를 사용하면 자동으로 OvA를 적용 (SVM의 경우에는 OvO 적용)\n",
    "sgd = SGDClassifier(max_iter=5, random_state=42)\n",
    "sgd.fit(train_x_2d, train_y)"
   ]
  },
  {
   "cell_type": "code",
   "execution_count": 14,
   "metadata": {},
   "outputs": [
    {
     "data": {
      "text/plain": [
       "array([4], dtype=uint8)"
      ]
     },
     "execution_count": 14,
     "metadata": {},
     "output_type": "execute_result"
    }
   ],
   "source": [
    "sgd.predict([train_x_2d[2]])"
   ]
  },
  {
   "cell_type": "code",
   "execution_count": 15,
   "metadata": {},
   "outputs": [
    {
     "data": {
      "text/plain": [
       "4"
      ]
     },
     "execution_count": 15,
     "metadata": {},
     "output_type": "execute_result"
    }
   ],
   "source": [
    "train_y[2]"
   ]
  },
  {
   "cell_type": "code",
   "execution_count": null,
   "metadata": {},
   "outputs": [],
   "source": []
  }
 ],
 "metadata": {
  "kernelspec": {
   "display_name": "Python 3",
   "language": "python",
   "name": "python3"
  },
  "language_info": {
   "codemirror_mode": {
    "name": "ipython",
    "version": 3
   },
   "file_extension": ".py",
   "mimetype": "text/x-python",
   "name": "python",
   "nbconvert_exporter": "python",
   "pygments_lexer": "ipython3",
   "version": "3.6.6"
  }
 },
 "nbformat": 4,
 "nbformat_minor": 2
}

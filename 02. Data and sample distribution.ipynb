{
 "cells": [
  {
   "cell_type": "markdown",
   "metadata": {},
   "source": [
    "- 빅데이터 시대가 되면서 더이상 표본추출(표집, 샘플링)이 필요 없을 거라는 오해\n",
    "- 데이터의 질과 적합성을 일정 수준 이상으로 담보할 수 없으면서 데이터 크기만 늘어나는 것이 오늘날 상황\n",
    "- 오히려, 다양한 데이터를 효과적으로 다루고 데이터 편향을 최소화하기 위한 방법으로 표본추출의 필요성이 더 커짐"
   ]
  },
  {
   "cell_type": "markdown",
   "metadata": {},
   "source": [
    "- 전통적인 통계학에서는 강력한 가정에 기초한 이론을 통해 왼쪽의 모집단을 밝혀내는 데 초점\n",
    "- 현대 통계학에서는 이러한 가정이 더 이상 필요하지 않은 오른쪽에 대한 연구로 방향이 옮겨지기 시작\n",
    "- 데이터 과학자들은 왼쪽의 이론적 측면에 대해 걱정하기보다, 표본추출 과정과 주어진 데이터에 집중할 필요가 있음"
   ]
  },
  {
   "cell_type": "markdown",
   "metadata": {},
   "source": [
    "## 1. Random Samling과 Sample Bias\n",
    "\n",
    "- 용어정리 \n",
    "     - 표본(sample) : 더 큰 데이터 집합으로부터 얻은 부분집합\n",
    "     - 모집단(population) : 어떤 데이터 집합을 구성하는 전체 대상 혹은 전체 집합\n",
    "     - N(n) : 모집단(표본)의 크기\n",
    "     - 랜덤표본추출(random sampling, 임의표집) : 무작위로 표본을 추출하는 것\n",
    "     - 층화표본추출(stratified sampling, 층화표본추출) : 모집단을 층으로 나눈 뒤, 각 층에서 무작위로 표본을 추출하는 것\n",
    "     - 단순랜덤표본 : 모집단 층화(stratified) 없이 랜덤표본추출로 얻은 표본\n",
    "     - 표본편향(sample bias) : 모집단을 잘못 대표하는 표본"
   ]
  },
  {
   "cell_type": "markdown",
   "metadata": {},
   "source": [
    "- 랜덤표본추출(Random sampling, 임의표집)은 무작위로 표본을 추출하는 것, 각 추첨에서 모든 원소는 동일한 확률로 뽑힘.\n",
    "  - 복원추출(With replacement) : 추출 후, 다음번에도 중복 추출이 가능하도록 해당 샘플을 다시 모집단에 포함\n",
    "  - 비복원추출(Without replacement) : 한번 뽑힌 원소는 추후 추첨에 사용하지 않음\n",
    "- 샘플 기반의 추청이나 모델링에서 데이터 품질은 데이터 양보다 더욱 중요함\n",
    "- 데이터 과학에서 데이터 품질이란 완결성, 형식의 일관성, 깨끗함 및 각 데이터 값의 정확성을 의미. 통계는 여기에 representativeness(대표성)을 추가\n",
    "- 표본편향(Sample bias)은 모집단을 잘못 대표하는 표본을 의미하며, 유의미한 nonrandom(비임의 방식)으로 표본이 추출될 때 발생. 이 경우 랜덤표본이라고 해도 어떤 표본도 모집단을 정확하게 대표할 수 없다는 것을 의미."
   ]
  },
  {
   "cell_type": "markdown",
   "metadata": {},
   "source": [
    "### 1.1 Bias\n",
    "- (통계) Bias : 측정 과정 혹은 표본추출 과정에서 발생하는 systematic 오차를 의미\n",
    "- (머신러닝) Bias : 모델의 예측값과 실제값의 차이\n",
    "- 랜덤표본추출로 인한 오류 vs 편향에 따른 오류 (사진)"
   ]
  },
  {
   "cell_type": "markdown",
   "metadata": {},
   "source": [
    "### 1.2 Random sampling\n",
    " - 데이터의 representativeness(대표성)을 담보하기 위한 핵심\n",
    " - Random sampling을 위해 고려해야 할 2가지\n",
    "     - 접근 가능한 모집단의 적절한 정의 \n",
    "         - ex) 고객의 정의 : 구매 금액이 0보다 큰 고객이 대상일 때, 모든 과거 고객을 포함? 제품을 환불한 고객 포함? 사업자 포함?\n",
    "     - 표본추출 절차를 선택\n",
    "         - ex) 고객을 추출 : 무작위로 100명의 고객을 선택? 평일 오전 10시의 방문자들만?(주말 오전 10시의 방문자와 같을까?)\n",
    " - **Stratified sampling (층화표본추출)** : 모집단을 여러 층으로 나누고 각 층(strata)에서 무작위로 샘플을 추출"
   ]
  },
  {
   "cell_type": "markdown",
   "metadata": {},
   "source": [
    "## 2. Sample distribution"
   ]
  },
  {
   "cell_type": "markdown",
   "metadata": {},
   "source": [
    "- 용어정리\n",
    "    - Sample statistic(표본통계량) : 더 큰 모집단에서 추출된 표본 데이터들로부터 얻은 측정 지표\n",
    "    - Data distribution(데이터 분포) : 어떤 데이터 집합에서의 각 개별 값의 도수분포\n",
    "    - Sample distribution(표본분포) : 여러 표본들 혹은 재포본들로부터 얻은 표본통계량의 도수분포\n",
    "    - Central limit theorem(중심극한정리) : 표본크기가 커질수록 표본분포가 정규분포를 따르는 경향\n",
    "    - Standard error(표준오차) : 여러 표본들로부터 얻은 표본통계량의 변량(개별 데이터 값들의 변량을 뜻하는 표준편차와 다름)"
   ]
  },
  {
   "cell_type": "markdown",
   "metadata": {},
   "source": [
    "(Question) 일반적으로 우리는 측정 및 통계 or 머신러닝 모델링을 위해 표본을 추출한다. 표본을 통한 추정이나 모델링은 오류가 있다. 다른 표본을 추출했다면 결과가 다를 수 있다. 과연 결과가 얼마나 달라졌을까에 대한 관심사가 sampling variability(표본의 변동성)이다."
   ]
  },
  {
   "cell_type": "markdown",
   "metadata": {},
   "source": [
    "### 2.1 Central limit theorem"
   ]
  },
  {
   "cell_type": "markdown",
   "metadata": {},
   "source": [
    "- 모집단이 정규분포가 아니더라도, 표본크기가 충분하고 데이터가 정규성을 크게 이탈하지 않는 경우, 여러 표본에서 추출한 평균은(표본 평균) 종 모양의 정규곡선을 따른다. 중심극한정리 덕분에 추론을 위한 표본분포에, 즉 신뢰구간이나 가설검정을 계산하는 데에 t분포 같은 정규근사 공식을 사용할 수 있다.\n",
    "- 데이터 과학에서는 형식적인 가설검정이나 신뢰구간이, 통계에서의 중요성만큼, 중요하지 않기 때문에(이 2개의 밑바탕이 바로 중심극한정리이다) 중식극한정리가, 통계에서의 중요성만큼, 중요하지는 않다."
   ]
  },
  {
   "cell_type": "markdown",
   "metadata": {},
   "source": [
    "### 2.2 Standard error"
   ]
  },
  {
   "cell_type": "markdown",
   "metadata": {},
   "source": [
    "- 표준오차는 통계에 대한 표본분포의 변동성을 나타내는 단일 측정 지표\n",
    "- 표본 값들의 표준편차가 $s$이고 표본크기가 $n$일 때, $\\text{Standard error} = \\frac{s}{\\sqrt{n}}$ \n",
    "- 표준오차를 측정할 때 고려해야 할 사항\n",
    "    1. 모집단에서 완전히 새로운 샘플들을 많이 수집한다.\n",
    "    2. 각각의 새 샘플에 대해 통계량(예, 평균)을 계산한다.\n",
    "    3. 2번째 단계에서 얻은 통계량의 표준편차를 계산한다. 이것을 표준오차의 추정치로 사용한다."
   ]
  },
  {
   "cell_type": "markdown",
   "metadata": {},
   "source": [
    "**현대 통계에서는 새로운 샘플을 뽑을 필요 없이, bootstrap(부트스트랩) 재표본을 사용하여 표준 오차를 추정**"
   ]
  },
  {
   "cell_type": "code",
   "execution_count": null,
   "metadata": {},
   "outputs": [],
   "source": []
  }
 ],
 "metadata": {
  "kernelspec": {
   "display_name": "Python 3",
   "language": "python",
   "name": "python3"
  },
  "language_info": {
   "codemirror_mode": {
    "name": "ipython",
    "version": 3
   },
   "file_extension": ".py",
   "mimetype": "text/x-python",
   "name": "python",
   "nbconvert_exporter": "python",
   "pygments_lexer": "ipython3",
   "version": "3.6.3"
  }
 },
 "nbformat": 4,
 "nbformat_minor": 2
}

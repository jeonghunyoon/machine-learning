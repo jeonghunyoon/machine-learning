{
 "cells": [
  {
   "cell_type": "markdown",
   "metadata": {},
   "source": [
    "# Monte Carlo with Paralellizing Impl.\n",
    "- Using the Monte Carlo technique, estimate the $\\pi$."
   ]
  },
  {
   "cell_type": "markdown",
   "metadata": {},
   "source": [
    "> Single thread"
   ]
  },
  {
   "cell_type": "code",
   "execution_count": 1,
   "metadata": {},
   "outputs": [],
   "source": [
    "# Generating Function\n",
    "from random import uniform, seed\n",
    "import time\n",
    "\n",
    "def sample():\n",
    "    return (uniform(-1, 1), uniform(-1, 1))"
   ]
  },
  {
   "cell_type": "code",
   "execution_count": 2,
   "metadata": {},
   "outputs": [],
   "source": [
    "# Checking whether a point is in circle or not.\n",
    "def is_in_circle(coord):\n",
    "    return coord[0] ** 2 + coord[1] ** 2 < 1"
   ]
  },
  {
   "cell_type": "code",
   "execution_count": 3,
   "metadata": {},
   "outputs": [],
   "source": [
    "def monte_carlo(iterations):\n",
    "    num_in = 0\n",
    "    for _ in range(iterations):\n",
    "        if is_in_circle(sample()):\n",
    "            num_in += 1\n",
    "    pi_over_four = num_in / iterations\n",
    "    return pi_over_four * 4"
   ]
  },
  {
   "cell_type": "code",
   "execution_count": 4,
   "metadata": {},
   "outputs": [
    {
     "name": "stdout",
     "output_type": "stream",
     "text": [
      "CPU times: user 1min 51s, sys: 1.08 s, total: 1min 52s\n",
      "Wall time: 1min 54s\n"
     ]
    },
    {
     "data": {
      "text/plain": [
       "3.14141136"
      ]
     },
     "execution_count": 4,
     "metadata": {},
     "output_type": "execute_result"
    }
   ],
   "source": [
    "%time monte_carlo(100000000)"
   ]
  },
  {
   "cell_type": "markdown",
   "metadata": {},
   "source": [
    "> Paralellizing implementation"
   ]
  },
  {
   "cell_type": "code",
   "execution_count": 5,
   "metadata": {},
   "outputs": [],
   "source": [
    "from multiprocessing import Pool, cpu_count"
   ]
  },
  {
   "cell_type": "code",
   "execution_count": 6,
   "metadata": {},
   "outputs": [],
   "source": [
    "# Generating Function\n",
    "def p_sample():\n",
    "    seed()\n",
    "    return (uniform(-1, 1), uniform(-1, 1))"
   ]
  },
  {
   "cell_type": "code",
   "execution_count": 7,
   "metadata": {},
   "outputs": [],
   "source": [
    "def p_monte_carlo(iterations):\n",
    "    num_in = 0\n",
    "    for _ in range(iterations):\n",
    "        if is_in_circle(sample()):\n",
    "            num_in += 1\n",
    "    return num_in"
   ]
  },
  {
   "cell_type": "code",
   "execution_count": 8,
   "metadata": {},
   "outputs": [],
   "source": [
    "def estimate():\n",
    "    num_cpu = cpu_count()\n",
    "    print('CPU numbers:', num_cpu)\n",
    "    \n",
    "    iterations = 100000000\n",
    "    partitions = [iterations // num_cpu for i in range(num_cpu)]\n",
    "    \n",
    "    pool = Pool(processes=num_cpu)\n",
    "    \n",
    "    count = pool.map(p_monte_carlo, partitions)\n",
    "    estimates = sum(count) / iterations * 4\n",
    "    \n",
    "    return estimates"
   ]
  },
  {
   "cell_type": "code",
   "execution_count": 9,
   "metadata": {},
   "outputs": [
    {
     "name": "stdout",
     "output_type": "stream",
     "text": [
      "CPU numbers: 4\n",
      "CPU times: user 47.9 ms, sys: 27.1 ms, total: 75 ms\n",
      "Wall time: 58.8 s\n"
     ]
    },
    {
     "data": {
      "text/plain": [
       "3.14160828"
      ]
     },
     "execution_count": 9,
     "metadata": {},
     "output_type": "execute_result"
    }
   ],
   "source": [
    "%time estimate()"
   ]
  }
 ],
 "metadata": {
  "kernelspec": {
   "display_name": "Python 3",
   "language": "python",
   "name": "python3"
  },
  "language_info": {
   "codemirror_mode": {
    "name": "ipython",
    "version": 3
   },
   "file_extension": ".py",
   "mimetype": "text/x-python",
   "name": "python",
   "nbconvert_exporter": "python",
   "pygments_lexer": "ipython3",
   "version": "3.6.6"
  }
 },
 "nbformat": 4,
 "nbformat_minor": 2
}
